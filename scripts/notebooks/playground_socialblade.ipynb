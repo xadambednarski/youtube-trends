{
 "cells": [
  {
   "cell_type": "code",
   "execution_count": null,
   "metadata": {},
   "outputs": [],
   "source": [
    "import selenium\n",
    "from selenium.webdriver.common.by import By\n",
    "import selenium.webdriver\n",
    "from selenium.webdriver.chrome.options import Options"
   ]
  },
  {
   "cell_type": "code",
   "execution_count": null,
   "metadata": {},
   "outputs": [],
   "source": [
    "options = Options()\n",
    "options.add_argument(\"--headless\")"
   ]
  },
  {
   "cell_type": "code",
   "execution_count": null,
   "metadata": {},
   "outputs": [],
   "source": [
    "top_100_urls = {\n",
    "    \"poland\": \"https://vidiq.com/youtube-stats/top/country/pl/\",\n",
    "    \"usa\": \"https://vidiq.com/youtube-stats/top/country/us/\",\n",
    "}"
   ]
  },
  {
   "cell_type": "code",
   "execution_count": null,
   "metadata": {},
   "outputs": [],
   "source": [
    "class Channel:\n",
    "    def __init__(self, name, rank, url=None, category=None):\n",
    "        self.name = name\n",
    "        self.category = category\n",
    "        self.rank = rank\n",
    "        self.url = url\n",
    "\n",
    "\n",
    "channels = []"
   ]
  },
  {
   "cell_type": "code",
   "execution_count": null,
   "metadata": {},
   "outputs": [],
   "source": [
    "selenium_driver = selenium.webdriver.Chrome(options=options)\n",
    "for url in top_100_urls.values():\n",
    "    selenium_driver.get(url)\n",
    "    table = selenium_driver.find_element(by=By.TAG_NAME, value=\"tbody\")\n",
    "    rows = table.find_elements(by=By.TAG_NAME, value=\"tr\")\n",
    "    for idx, row in enumerate(rows):\n",
    "        channel_name = row.find_elements(by=By.TAG_NAME, value=\"td\")[1].text\n",
    "        channel = Channel(name=channel_name, rank=idx + 1)\n",
    "        channels.append(channel)\n",
    "selenium_driver.quit()"
   ]
  },
  {
   "cell_type": "code",
   "execution_count": null,
   "metadata": {},
   "outputs": [],
   "source": []
  }
 ],
 "metadata": {
  "kernelspec": {
   "display_name": ".venv",
   "language": "python",
   "name": "python3"
  },
  "language_info": {
   "codemirror_mode": {
    "name": "ipython",
    "version": 3
   },
   "file_extension": ".py",
   "mimetype": "text/x-python",
   "name": "python",
   "nbconvert_exporter": "python",
   "pygments_lexer": "ipython3",
   "version": "3.12.3"
  }
 },
 "nbformat": 4,
 "nbformat_minor": 2
}
